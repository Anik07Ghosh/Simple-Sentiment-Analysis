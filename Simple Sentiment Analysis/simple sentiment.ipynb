{
 "cells": [
  {
   "cell_type": "markdown",
   "id": "f5aa8ad6-c97c-4a87-9474-af01b550a3c1",
   "metadata": {},
   "source": [
    "from textblob import TextBlob"
   ]
  },
  {
   "cell_type": "code",
   "execution_count": 1,
   "id": "e9c01d26-9145-40c3-8452-79fb7fc8f063",
   "metadata": {},
   "outputs": [],
   "source": [
    "from textblob import TextBlob"
   ]
  },
  {
   "cell_type": "code",
   "execution_count": 2,
   "id": "8a5c640e-0012-4cde-b644-cfe5195d3ccb",
   "metadata": {},
   "outputs": [],
   "source": [
    "from newspaper import Article"
   ]
  },
  {
   "cell_type": "code",
   "execution_count": 3,
   "id": "0107eceb-0543-4324-9140-841a935cc6a7",
   "metadata": {},
   "outputs": [],
   "source": [
    "url = 'https://www.livemint.com/news/india/nabanna-march-live-updates-kolkata-doctor-rape-murder-west-bengal-mamata-banerjee-howrah-bridge-lathi-charge-tear-gas-11724746064144.html'"
   ]
  },
  {
   "cell_type": "code",
   "execution_count": 4,
   "id": "43cbc859-28a6-4602-ad61-c5293a9a89b9",
   "metadata": {},
   "outputs": [],
   "source": [
    "article = Article(url)"
   ]
  },
  {
   "cell_type": "code",
   "execution_count": 5,
   "id": "b86ee55a-41d3-453e-94f0-9041ba8064b5",
   "metadata": {},
   "outputs": [],
   "source": [
    "article.download()"
   ]
  },
  {
   "cell_type": "code",
   "execution_count": 6,
   "id": "0130e96c-415f-4682-bbce-6630c744b4d5",
   "metadata": {},
   "outputs": [],
   "source": [
    "article.parse()"
   ]
  },
  {
   "cell_type": "code",
   "execution_count": 7,
   "id": "3581ff54-cce9-4dcc-802d-fa241db6322c",
   "metadata": {},
   "outputs": [],
   "source": [
    "import nltk"
   ]
  },
  {
   "cell_type": "code",
   "execution_count": 8,
   "id": "77acddf8-7a43-4382-b282-4033a0181369",
   "metadata": {},
   "outputs": [
    {
     "name": "stderr",
     "output_type": "stream",
     "text": [
      "[nltk_data] Downloading package punkt to\n",
      "[nltk_data]     C:\\Users\\anik1\\AppData\\Roaming\\nltk_data...\n",
      "[nltk_data]   Package punkt is already up-to-date!\n"
     ]
    },
    {
     "data": {
      "text/plain": [
       "True"
      ]
     },
     "execution_count": 8,
     "metadata": {},
     "output_type": "execute_result"
    }
   ],
   "source": [
    "nltk.download('punkt')"
   ]
  },
  {
   "cell_type": "code",
   "execution_count": 9,
   "id": "0faa34e5-6c4f-4601-91a2-5f4fc97448f9",
   "metadata": {},
   "outputs": [],
   "source": [
    "article.nlp()"
   ]
  },
  {
   "cell_type": "code",
   "execution_count": 10,
   "id": "382f232b-ef5e-473e-8756-94c629fe15ea",
   "metadata": {},
   "outputs": [],
   "source": [
    "text = article.summary"
   ]
  },
  {
   "cell_type": "code",
   "execution_count": 11,
   "id": "b974b478-e7d8-4b9b-a9c9-fb9bcb411a06",
   "metadata": {},
   "outputs": [
    {
     "name": "stdout",
     "output_type": "stream",
     "text": [
      "Bengal Bandh Highlights: President Murmu ‘horrified’ by Kolkata rape-murder; BJP says 'CM Mamata threatening doctors'30 min read .\n",
      "Updated: 28 Aug 2024, 06:47 PM ISTBengal Bandh Highlights: The state-wide ‘12-hour-bandh’ called by the BJP grew intense when a BJP leader alleged attack with bomb and guns by TMC.\n",
      "Meanwhile, police continued taking actin against protesters blocking rail, road, and disruoting other services in West Bengal today\n"
     ]
    }
   ],
   "source": [
    "print(text)"
   ]
  },
  {
   "cell_type": "code",
   "execution_count": 12,
   "id": "f6cddb4b-73ef-4981-9fa5-598ba32128d6",
   "metadata": {},
   "outputs": [],
   "source": [
    "blob =TextBlob(text)"
   ]
  },
  {
   "cell_type": "code",
   "execution_count": 13,
   "id": "180fdf74-3f40-495a-8df9-1c05b2cfa8d7",
   "metadata": {},
   "outputs": [],
   "source": [
    "sentiment = blob.sentiment.polarity # -1 to 1"
   ]
  },
  {
   "cell_type": "code",
   "execution_count": 14,
   "id": "9f82f311-fc6c-47ac-9e63-304c2b4ee4d3",
   "metadata": {},
   "outputs": [
    {
     "name": "stdout",
     "output_type": "stream",
     "text": [
      "-0.008333333333333331\n"
     ]
    }
   ],
   "source": [
    "print(sentiment)"
   ]
  },
  {
   "cell_type": "code",
   "execution_count": null,
   "id": "b6bbbbdf-5d90-4d35-a505-2fa8c79439d6",
   "metadata": {},
   "outputs": [],
   "source": []
  }
 ],
 "metadata": {
  "kernelspec": {
   "display_name": "Python 3 (ipykernel)",
   "language": "python",
   "name": "python3"
  },
  "language_info": {
   "codemirror_mode": {
    "name": "ipython",
    "version": 3
   },
   "file_extension": ".py",
   "mimetype": "text/x-python",
   "name": "python",
   "nbconvert_exporter": "python",
   "pygments_lexer": "ipython3",
   "version": "3.12.4"
  }
 },
 "nbformat": 4,
 "nbformat_minor": 5
}
